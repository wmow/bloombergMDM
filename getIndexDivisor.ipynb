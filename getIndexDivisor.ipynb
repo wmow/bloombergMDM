{
 "cells": [
  {
   "cell_type": "code",
   "execution_count": 61,
   "metadata": {},
   "outputs": [],
   "source": [
    "import numpy as np\n",
    "import pandas as pd\n",
    "import matplotlib.pyplot as plt\n",
    "from datetime import datetime\n",
    "import warnings\n",
    "warnings.simplefilter(action='ignore', category=FutureWarning)"
   ]
  },
  {
   "cell_type": "code",
   "execution_count": 64,
   "metadata": {},
   "outputs": [],
   "source": [
    "freeFloats = pd.read_csv(r'extraCompanyDataFinal/freeFloatPercFinal.csv')\n",
    "sharesOutstanding = pd.read_csv(r'extraCompanyDataFinal/outstandingSharesFinal.csv')\n",
    "\n",
    "FTSE = pd.read_csv(r'FTSE17-20.csv')\n",
    "FTSE['Date'] = pd.to_datetime(FTSE['Date'])\n",
    "\n",
    "FTSEStocksEachQuarter = pd.read_csv(r'FTSEStocksEachQuarter.csv')"
   ]
  },
  {
   "cell_type": "code",
   "execution_count": 27,
   "metadata": {},
   "outputs": [
    {
     "data": {
      "text/html": [
       "<div>\n",
       "<style scoped>\n",
       "    .dataframe tbody tr th:only-of-type {\n",
       "        vertical-align: middle;\n",
       "    }\n",
       "\n",
       "    .dataframe tbody tr th {\n",
       "        vertical-align: top;\n",
       "    }\n",
       "\n",
       "    .dataframe thead th {\n",
       "        text-align: right;\n",
       "    }\n",
       "</style>\n",
       "<table border=\"1\" class=\"dataframe\">\n",
       "  <thead>\n",
       "    <tr style=\"text-align: right;\">\n",
       "      <th></th>\n",
       "      <th>Unnamed: 0</th>\n",
       "      <th>Q3, 17</th>\n",
       "      <th>Q4, 17</th>\n",
       "      <th>Q1, 18</th>\n",
       "      <th>Q2, 18</th>\n",
       "      <th>Q3, 18</th>\n",
       "      <th>Q4, 18</th>\n",
       "      <th>Q1, 19</th>\n",
       "      <th>Q2, 19</th>\n",
       "      <th>Q3, 19</th>\n",
       "      <th>Q4, 19</th>\n",
       "    </tr>\n",
       "  </thead>\n",
       "  <tbody>\n",
       "    <tr>\n",
       "      <th>0</th>\n",
       "      <td>0</td>\n",
       "      <td>III</td>\n",
       "      <td>III</td>\n",
       "      <td>III</td>\n",
       "      <td>III</td>\n",
       "      <td>III</td>\n",
       "      <td>III</td>\n",
       "      <td>III</td>\n",
       "      <td>III</td>\n",
       "      <td>III</td>\n",
       "      <td>III</td>\n",
       "    </tr>\n",
       "    <tr>\n",
       "      <th>1</th>\n",
       "      <td>1</td>\n",
       "      <td>ABF</td>\n",
       "      <td>ABF</td>\n",
       "      <td>ABF</td>\n",
       "      <td>ABF</td>\n",
       "      <td>ABF</td>\n",
       "      <td>ABF</td>\n",
       "      <td>ABF</td>\n",
       "      <td>ABF</td>\n",
       "      <td>ABF</td>\n",
       "      <td>ABF</td>\n",
       "    </tr>\n",
       "    <tr>\n",
       "      <th>2</th>\n",
       "      <td>2</td>\n",
       "      <td>ADM</td>\n",
       "      <td>ADM</td>\n",
       "      <td>ADM</td>\n",
       "      <td>ADM</td>\n",
       "      <td>ADM</td>\n",
       "      <td>ADM</td>\n",
       "      <td>ADM</td>\n",
       "      <td>ADM</td>\n",
       "      <td>ADM</td>\n",
       "      <td>ADM</td>\n",
       "    </tr>\n",
       "    <tr>\n",
       "      <th>3</th>\n",
       "      <td>3</td>\n",
       "      <td>AAL</td>\n",
       "      <td>AAL</td>\n",
       "      <td>AAL</td>\n",
       "      <td>AAL</td>\n",
       "      <td>AAL</td>\n",
       "      <td>AAL</td>\n",
       "      <td>AAL</td>\n",
       "      <td>AAL</td>\n",
       "      <td>AAL</td>\n",
       "      <td>AAL</td>\n",
       "    </tr>\n",
       "    <tr>\n",
       "      <th>4</th>\n",
       "      <td>4</td>\n",
       "      <td>ANTO</td>\n",
       "      <td>ANTO</td>\n",
       "      <td>ANTO</td>\n",
       "      <td>ANTO</td>\n",
       "      <td>ANTO</td>\n",
       "      <td>ANTO</td>\n",
       "      <td>ANTO</td>\n",
       "      <td>ANTO</td>\n",
       "      <td>ANTO</td>\n",
       "      <td>ANTO</td>\n",
       "    </tr>\n",
       "  </tbody>\n",
       "</table>\n",
       "</div>"
      ],
      "text/plain": [
       "   Unnamed: 0 Q3, 17 Q4, 17 Q1, 18 Q2, 18 Q3, 18 Q4, 18 Q1, 19 Q2, 19 Q3, 19  \\\n",
       "0           0    III    III    III    III    III    III    III    III    III   \n",
       "1           1    ABF    ABF    ABF    ABF    ABF    ABF    ABF    ABF    ABF   \n",
       "2           2    ADM    ADM    ADM    ADM    ADM    ADM    ADM    ADM    ADM   \n",
       "3           3    AAL    AAL    AAL    AAL    AAL    AAL    AAL    AAL    AAL   \n",
       "4           4   ANTO   ANTO   ANTO   ANTO   ANTO   ANTO   ANTO   ANTO   ANTO   \n",
       "\n",
       "  Q4, 19  \n",
       "0    III  \n",
       "1    ABF  \n",
       "2    ADM  \n",
       "3    AAL  \n",
       "4   ANTO  "
      ]
     },
     "execution_count": 27,
     "metadata": {},
     "output_type": "execute_result"
    }
   ],
   "source": [
    "freeFloats['AAL'][0]\n",
    "FTSEStocksEachQuarter.head()"
   ]
  },
  {
   "cell_type": "code",
   "execution_count": 32,
   "metadata": {},
   "outputs": [
    {
     "data": {
      "text/plain": [
       "'Q4'"
      ]
     },
     "execution_count": 32,
     "metadata": {},
     "output_type": "execute_result"
    }
   ],
   "source": [
    "#dates for share close prices between any two quarters - for index divisor\n",
    "quarterCutOffDates = [datetime.strptime('Jun 19, 2017', '%b %d, %Y').date(), \\\n",
    "                         datetime.strptime('Sep 18, 2017', '%b %d, %Y').date(), \\\n",
    "                         datetime.strptime('Dec 18, 2017', '%b %d, %Y').date(), \\\n",
    "                         datetime.strptime('Mar 19, 2018', '%b %d, %Y').date(), \\\n",
    "                         datetime.strptime('Jun 18, 2018', '%b %d, %Y').date(), \\\n",
    "                         datetime.strptime('Sep 24, 2018', '%b %d, %Y').date(), \\\n",
    "                         datetime.strptime('Dec 24, 2018', '%b %d, %Y').date(), \\\n",
    "                         datetime.strptime('Mar 18, 2019', '%b %d, %Y').date(), \\\n",
    "                         datetime.strptime('Jun 24, 2019', '%b %d, %Y').date(), \\\n",
    "                         datetime.strptime('Sep 23, 2019', '%b %d, %Y').date()\n",
    "                        ]\n",
    "\n",
    "quarterNames = ['Q3, 17','Q4, 17', 'Q1, 18', 'Q2, 18', 'Q3, 18', 'Q4, 18', 'Q1, 19', 'Q2, 19', 'Q3, 19', 'Q4, 19']\n",
    "\n",
    "quarterCutOffDates.reverse()\n",
    "quarterNames.reverse()\n",
    "\n",
    "len(quarterNames)\n",
    "quarterNames[0][0:2]\n",
    "#quarterCutOffDates"
   ]
  },
  {
   "cell_type": "code",
   "execution_count": 39,
   "metadata": {},
   "outputs": [
    {
     "data": {
      "text/html": [
       "<div>\n",
       "<style scoped>\n",
       "    .dataframe tbody tr th:only-of-type {\n",
       "        vertical-align: middle;\n",
       "    }\n",
       "\n",
       "    .dataframe tbody tr th {\n",
       "        vertical-align: top;\n",
       "    }\n",
       "\n",
       "    .dataframe thead th {\n",
       "        text-align: right;\n",
       "    }\n",
       "</style>\n",
       "<table border=\"1\" class=\"dataframe\">\n",
       "  <thead>\n",
       "    <tr style=\"text-align: right;\">\n",
       "      <th></th>\n",
       "      <th>Quarter CO Date</th>\n",
       "    </tr>\n",
       "  </thead>\n",
       "  <tbody>\n",
       "    <tr>\n",
       "      <th>Q4, 19</th>\n",
       "      <td>2019-09-23</td>\n",
       "    </tr>\n",
       "    <tr>\n",
       "      <th>Q3, 19</th>\n",
       "      <td>2019-06-24</td>\n",
       "    </tr>\n",
       "    <tr>\n",
       "      <th>Q2, 19</th>\n",
       "      <td>2019-03-18</td>\n",
       "    </tr>\n",
       "    <tr>\n",
       "      <th>Q1, 19</th>\n",
       "      <td>2018-12-24</td>\n",
       "    </tr>\n",
       "    <tr>\n",
       "      <th>Q4, 18</th>\n",
       "      <td>2018-09-24</td>\n",
       "    </tr>\n",
       "    <tr>\n",
       "      <th>Q3, 18</th>\n",
       "      <td>2018-06-18</td>\n",
       "    </tr>\n",
       "    <tr>\n",
       "      <th>Q2, 18</th>\n",
       "      <td>2018-03-19</td>\n",
       "    </tr>\n",
       "    <tr>\n",
       "      <th>Q1, 18</th>\n",
       "      <td>2017-12-18</td>\n",
       "    </tr>\n",
       "    <tr>\n",
       "      <th>Q4, 17</th>\n",
       "      <td>2017-09-18</td>\n",
       "    </tr>\n",
       "    <tr>\n",
       "      <th>Q3, 17</th>\n",
       "      <td>2017-06-19</td>\n",
       "    </tr>\n",
       "  </tbody>\n",
       "</table>\n",
       "</div>"
      ],
      "text/plain": [
       "       Quarter CO Date\n",
       "Q4, 19      2019-09-23\n",
       "Q3, 19      2019-06-24\n",
       "Q2, 19      2019-03-18\n",
       "Q1, 19      2018-12-24\n",
       "Q4, 18      2018-09-24\n",
       "Q3, 18      2018-06-18\n",
       "Q2, 18      2018-03-19\n",
       "Q1, 18      2017-12-18\n",
       "Q4, 17      2017-09-18\n",
       "Q3, 17      2017-06-19"
      ]
     },
     "execution_count": 39,
     "metadata": {},
     "output_type": "execute_result"
    }
   ],
   "source": [
    "indexDivisors = pd.DataFrame({'Quarter CO Date': quarterCutOffDates}, index = quarterNames)\n",
    "indexDivisors"
   ]
  },
  {
   "cell_type": "code",
   "execution_count": 65,
   "metadata": {},
   "outputs": [
    {
     "data": {
      "text/html": [
       "<div>\n",
       "<style scoped>\n",
       "    .dataframe tbody tr th:only-of-type {\n",
       "        vertical-align: middle;\n",
       "    }\n",
       "\n",
       "    .dataframe tbody tr th {\n",
       "        vertical-align: top;\n",
       "    }\n",
       "\n",
       "    .dataframe thead th {\n",
       "        text-align: right;\n",
       "    }\n",
       "</style>\n",
       "<table border=\"1\" class=\"dataframe\">\n",
       "  <thead>\n",
       "    <tr style=\"text-align: right;\">\n",
       "      <th></th>\n",
       "      <th>Quarter CO Date</th>\n",
       "      <th>Divisors</th>\n",
       "    </tr>\n",
       "  </thead>\n",
       "  <tbody>\n",
       "    <tr>\n",
       "      <th>Q4, 19</th>\n",
       "      <td>2019-09-23</td>\n",
       "      <td>2.752744e+10</td>\n",
       "    </tr>\n",
       "    <tr>\n",
       "      <th>Q3, 19</th>\n",
       "      <td>2019-06-24</td>\n",
       "      <td>2.783326e+10</td>\n",
       "    </tr>\n",
       "    <tr>\n",
       "      <th>Q2, 19</th>\n",
       "      <td>2019-03-18</td>\n",
       "      <td>2.962895e+10</td>\n",
       "    </tr>\n",
       "    <tr>\n",
       "      <th>Q1, 19</th>\n",
       "      <td>2018-12-24</td>\n",
       "      <td>2.988978e+10</td>\n",
       "    </tr>\n",
       "    <tr>\n",
       "      <th>Q4, 18</th>\n",
       "      <td>2018-09-24</td>\n",
       "      <td>2.786064e+10</td>\n",
       "    </tr>\n",
       "    <tr>\n",
       "      <th>Q3, 18</th>\n",
       "      <td>2018-06-18</td>\n",
       "      <td>2.784479e+10</td>\n",
       "    </tr>\n",
       "    <tr>\n",
       "      <th>Q2, 18</th>\n",
       "      <td>2018-03-19</td>\n",
       "      <td>2.740565e+10</td>\n",
       "    </tr>\n",
       "    <tr>\n",
       "      <th>Q1, 18</th>\n",
       "      <td>2017-12-18</td>\n",
       "      <td>2.751398e+10</td>\n",
       "    </tr>\n",
       "    <tr>\n",
       "      <th>Q4, 17</th>\n",
       "      <td>2017-09-18</td>\n",
       "      <td>2.713623e+10</td>\n",
       "    </tr>\n",
       "    <tr>\n",
       "      <th>Q3, 17</th>\n",
       "      <td>2017-06-19</td>\n",
       "      <td>2.659119e+10</td>\n",
       "    </tr>\n",
       "  </tbody>\n",
       "</table>\n",
       "</div>"
      ],
      "text/plain": [
       "       Quarter CO Date      Divisors\n",
       "Q4, 19      2019-09-23  2.752744e+10\n",
       "Q3, 19      2019-06-24  2.783326e+10\n",
       "Q2, 19      2019-03-18  2.962895e+10\n",
       "Q1, 19      2018-12-24  2.988978e+10\n",
       "Q4, 18      2018-09-24  2.786064e+10\n",
       "Q3, 18      2018-06-18  2.784479e+10\n",
       "Q2, 18      2018-03-19  2.740565e+10\n",
       "Q1, 18      2017-12-18  2.751398e+10\n",
       "Q4, 17      2017-09-18  2.713623e+10\n",
       "Q3, 17      2017-06-19  2.659119e+10"
      ]
     },
     "execution_count": 65,
     "metadata": {},
     "output_type": "execute_result"
    }
   ],
   "source": [
    "indexDivisorsList = []\n",
    "for idx, quarter in enumerate(indexDivisors.index.values):\n",
    "    sumOfMarketCaps = 0\n",
    "    for stock in FTSEStocksEachQuarter[quarter].values:\n",
    "        if stock == 'AV.':\n",
    "            stock = 'AV.L'\n",
    "            stockPrice = pd.read_csv(f'stockCSVs/{stock}17-20.csv')\n",
    "        elif stock[-1] == '.':\n",
    "            stockPrice = pd.read_csv(f'stockCSVs/{stock}L17-20.csv')\n",
    "        else:\n",
    "            stockPrice = pd.read_csv(f'stockCSVs/{stock}.L17-20.csv')\n",
    "        stockPrice['Date'] = pd.to_datetime(stockPrice['Date'])\n",
    "        #print(stock)\n",
    "        #print(freeFloats[stock][idx])\n",
    "        #print(sharesOutstanding[stock][idx])\n",
    "        #print(stockPrice[stockPrice['Date'] == indexDivisors['Quarter CO Date'][quarter]])\n",
    "        #print(stockPrice[stockPrice['Date'] == indexDivisors['Quarter CO Date'][quarter]]['Close'].values[0])\n",
    "        try:\n",
    "            marketCap = freeFloats[stock][idx]*sharesOutstanding[stock][idx]*stockPrice[stockPrice['Date'] == indexDivisors['Quarter CO Date'][quarter]]['Close'].values[0]\n",
    "        except IndexError:\n",
    "            continue\n",
    "        sumOfMarketCaps +=marketCap\n",
    "    \n",
    "    #print(FTSE[FTSE['Date'] == indexDivisors['Quarter CO Date'][quarter]])\n",
    "    #print(FTSE[FTSE['Date'] == indexDivisors['Quarter CO Date'][quarter]]['Close'].values[0])\n",
    "    indexDivisorsList.append(sumOfMarketCaps/(FTSE[FTSE['Date'] == indexDivisors['Quarter CO Date'][quarter]]['Close'].values[0])) \n",
    "    \n",
    "indexDivisors['Divisors'] = indexDivisorsList    \n",
    "#indexDivisors.to_csv('indexDivisors.csv')"
   ]
  },
  {
   "cell_type": "code",
   "execution_count": null,
   "metadata": {},
   "outputs": [],
   "source": [
    "indexDivisors.to_csv('indexDivisors.csv')"
   ]
  },
  {
   "cell_type": "code",
   "execution_count": 63,
   "metadata": {},
   "outputs": [
    {
     "name": "stdout",
     "output_type": "stream",
     "text": [
      "JET\n"
     ]
    }
   ],
   "source": [
    "print(stock)"
   ]
  },
  {
   "cell_type": "code",
   "execution_count": 42,
   "metadata": {},
   "outputs": [
    {
     "name": "stderr",
     "output_type": "stream",
     "text": [
      "/usr/local/lib/python3.7/site-packages/ipykernel_launcher.py:4: FutureWarning: Comparing Series of datetimes with 'datetime.date'.  Currently, the\n",
      "'datetime.date' is coerced to a datetime. In the future pandas will\n",
      "not coerce, and 'the values will not compare equal to the\n",
      "'datetime.date'. To retain the current behavior, convert the\n",
      "'datetime.date' to a datetime with 'pd.Timestamp'.\n",
      "  after removing the cwd from sys.path.\n"
     ]
    },
    {
     "data": {
      "text/plain": [
       "1733.0"
      ]
     },
     "execution_count": 42,
     "metadata": {},
     "output_type": "execute_result"
    }
   ],
   "source": [
    "stockPrice = pd.read_csv(f'stockCSVs/AAL.L17-20.csv')\n",
    "stockPrice['Date'] = pd.to_datetime(stockPrice['Date'])\n",
    "stockPrice['Date'][0] > indexDivisors['Quarter CO Date'][0]\n",
    "stockPrice[stockPrice['Date'] == datetime.strptime('Jun 18, 2018', '%b %d, %Y').date()]['Close'].values[0]"
   ]
  },
  {
   "cell_type": "code",
   "execution_count": null,
   "metadata": {},
   "outputs": [],
   "source": []
  }
 ],
 "metadata": {
  "kernelspec": {
   "display_name": "Python 3",
   "language": "python",
   "name": "python3"
  },
  "language_info": {
   "codemirror_mode": {
    "name": "ipython",
    "version": 3
   },
   "file_extension": ".py",
   "mimetype": "text/x-python",
   "name": "python",
   "nbconvert_exporter": "python",
   "pygments_lexer": "ipython3",
   "version": "3.7.6"
  }
 },
 "nbformat": 4,
 "nbformat_minor": 2
}
