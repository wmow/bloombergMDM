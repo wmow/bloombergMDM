{
 "cells": [
  {
   "cell_type": "code",
   "execution_count": 280,
   "metadata": {},
   "outputs": [],
   "source": [
    "import numpy as np\n",
    "import pandas as pd\n",
    "import matplotlib.pyplot as plt\n",
    "from time import sleep\n",
    "import quandl as ql\n",
    "from alpha_vantage.timeseries import TimeSeries\n",
    "ql.ApiConfig.api_key = 'TvM-Jbzx938zxdKHUgxw'\n",
    "alphaKey = 'QG9CR54Q5A0NVUV0'\n"
   ]
  },
  {
   "cell_type": "code",
   "execution_count": 281,
   "metadata": {},
   "outputs": [
    {
     "data": {
      "text/html": [
       "<div>\n",
       "<style scoped>\n",
       "    .dataframe tbody tr th:only-of-type {\n",
       "        vertical-align: middle;\n",
       "    }\n",
       "\n",
       "    .dataframe tbody tr th {\n",
       "        vertical-align: top;\n",
       "    }\n",
       "\n",
       "    .dataframe thead th {\n",
       "        text-align: right;\n",
       "    }\n",
       "</style>\n",
       "<table border=\"1\" class=\"dataframe\">\n",
       "  <thead>\n",
       "    <tr style=\"text-align: right;\">\n",
       "      <th></th>\n",
       "      <th>1. open</th>\n",
       "      <th>2. high</th>\n",
       "      <th>3. low</th>\n",
       "      <th>4. close</th>\n",
       "      <th>5. volume</th>\n",
       "    </tr>\n",
       "    <tr>\n",
       "      <th>date</th>\n",
       "      <th></th>\n",
       "      <th></th>\n",
       "      <th></th>\n",
       "      <th></th>\n",
       "      <th></th>\n",
       "    </tr>\n",
       "  </thead>\n",
       "  <tbody>\n",
       "    <tr>\n",
       "      <th>2020-03-13</th>\n",
       "      <td>1230.5</td>\n",
       "      <td>1250.0</td>\n",
       "      <td>1200.5</td>\n",
       "      <td>1244.0</td>\n",
       "      <td>1444204.0</td>\n",
       "    </tr>\n",
       "    <tr>\n",
       "      <th>2020-03-12</th>\n",
       "      <td>1248.5</td>\n",
       "      <td>1299.5</td>\n",
       "      <td>1179.0</td>\n",
       "      <td>1190.0</td>\n",
       "      <td>3407569.0</td>\n",
       "    </tr>\n",
       "    <tr>\n",
       "      <th>2020-03-11</th>\n",
       "      <td>1300.0</td>\n",
       "      <td>1329.5</td>\n",
       "      <td>1288.5</td>\n",
       "      <td>1302.5</td>\n",
       "      <td>3123949.0</td>\n",
       "    </tr>\n",
       "    <tr>\n",
       "      <th>2020-03-10</th>\n",
       "      <td>1317.0</td>\n",
       "      <td>1341.0</td>\n",
       "      <td>1284.0</td>\n",
       "      <td>1299.0</td>\n",
       "      <td>5092864.0</td>\n",
       "    </tr>\n",
       "    <tr>\n",
       "      <th>2020-03-09</th>\n",
       "      <td>1267.0</td>\n",
       "      <td>1308.0</td>\n",
       "      <td>1240.0</td>\n",
       "      <td>1305.5</td>\n",
       "      <td>2870371.0</td>\n",
       "    </tr>\n",
       "  </tbody>\n",
       "</table>\n",
       "</div>"
      ],
      "text/plain": [
       "            1. open  2. high  3. low  4. close  5. volume\n",
       "date                                                     \n",
       "2020-03-13   1230.5   1250.0  1200.5    1244.0  1444204.0\n",
       "2020-03-12   1248.5   1299.5  1179.0    1190.0  3407569.0\n",
       "2020-03-11   1300.0   1329.5  1288.5    1302.5  3123949.0\n",
       "2020-03-10   1317.0   1341.0  1284.0    1299.0  5092864.0\n",
       "2020-03-09   1267.0   1308.0  1240.0    1305.5  2870371.0"
      ]
     },
     "execution_count": 281,
     "metadata": {},
     "output_type": "execute_result"
    }
   ],
   "source": [
    "\n",
    "ts = TimeSeries(alphaKey,output_format = 'pandas')\n",
    "\n",
    "poly, meta = ts.get_daily(symbol='POLY.L', outputsize = 'full')\n",
    "\n",
    "appledf = pd.DataFrame.from_dict(poly)\n",
    "appledf.append(dict(zip(appledf.columns, appledf.columns)), ignore_index=True)\n",
    "appledf.head()"
   ]
  },
  {
   "cell_type": "code",
   "execution_count": 255,
   "metadata": {},
   "outputs": [],
   "source": [
    "def importStockData(name):\n",
    "    ts = TimeSeries(key,output_format = 'pandas')\n",
    "    stock, meta = ts.get_daily(symbol=name, outputsize = 'full')\n",
    "    \n",
    "    stock = stock.rename(columns={'1. open': \"Open\", '2. high': \"High\",'3. low':\"Low\",'4. close':\"Close\",'5. volume':\"Volume\",'date':'Date'})\n",
    "    \n",
    "    stock['Open'] = stock.Open.astype(float)\n",
    "    stock['High'] = stock.High.astype(float)\n",
    "    stock['Low'] = stock.Low.astype(float)\n",
    "    stock['Close'] = stock.Close.astype(float)\n",
    "    stock['Volume'] = stock.Volume.astype(int)\n",
    "    stock['Date'] = stock.index.values\n",
    "    stock['Day'] = stock.Date.dt.dayofyear\n",
    "    stock['Year'] = stock.Date.dt.year\n",
    "    \n",
    "    stock19 = stock[stock['Year'] > 2016]\n",
    "    stock19 = stock19.iloc[::-1]\n",
    "    stock19 = stock19.reset_index(drop=True)\n",
    "    \n",
    "    return stock19\n",
    "\n"
   ]
  },
  {
   "cell_type": "code",
   "execution_count": 256,
   "metadata": {},
   "outputs": [
    {
     "data": {
      "text/html": [
       "<div>\n",
       "<style scoped>\n",
       "    .dataframe tbody tr th:only-of-type {\n",
       "        vertical-align: middle;\n",
       "    }\n",
       "\n",
       "    .dataframe tbody tr th {\n",
       "        vertical-align: top;\n",
       "    }\n",
       "\n",
       "    .dataframe thead th {\n",
       "        text-align: right;\n",
       "    }\n",
       "</style>\n",
       "<table border=\"1\" class=\"dataframe\">\n",
       "  <thead>\n",
       "    <tr style=\"text-align: right;\">\n",
       "      <th></th>\n",
       "      <th>Open</th>\n",
       "      <th>High</th>\n",
       "      <th>Low</th>\n",
       "      <th>Close</th>\n",
       "      <th>Volume</th>\n",
       "      <th>Date</th>\n",
       "      <th>Day</th>\n",
       "      <th>Year</th>\n",
       "    </tr>\n",
       "  </thead>\n",
       "  <tbody>\n",
       "    <tr>\n",
       "      <th>0</th>\n",
       "      <td>857.0</td>\n",
       "      <td>876.0</td>\n",
       "      <td>849.500</td>\n",
       "      <td>872.0</td>\n",
       "      <td>1196591</td>\n",
       "      <td>2017-01-03</td>\n",
       "      <td>3</td>\n",
       "      <td>2017</td>\n",
       "    </tr>\n",
       "    <tr>\n",
       "      <th>1</th>\n",
       "      <td>883.0</td>\n",
       "      <td>897.0</td>\n",
       "      <td>862.500</td>\n",
       "      <td>889.5</td>\n",
       "      <td>1069831</td>\n",
       "      <td>2017-01-04</td>\n",
       "      <td>4</td>\n",
       "      <td>2017</td>\n",
       "    </tr>\n",
       "    <tr>\n",
       "      <th>2</th>\n",
       "      <td>901.5</td>\n",
       "      <td>916.5</td>\n",
       "      <td>882.452</td>\n",
       "      <td>908.5</td>\n",
       "      <td>1142966</td>\n",
       "      <td>2017-01-05</td>\n",
       "      <td>5</td>\n",
       "      <td>2017</td>\n",
       "    </tr>\n",
       "    <tr>\n",
       "      <th>3</th>\n",
       "      <td>905.0</td>\n",
       "      <td>905.0</td>\n",
       "      <td>885.000</td>\n",
       "      <td>888.0</td>\n",
       "      <td>709267</td>\n",
       "      <td>2017-01-06</td>\n",
       "      <td>6</td>\n",
       "      <td>2017</td>\n",
       "    </tr>\n",
       "    <tr>\n",
       "      <th>4</th>\n",
       "      <td>884.5</td>\n",
       "      <td>917.5</td>\n",
       "      <td>881.580</td>\n",
       "      <td>917.5</td>\n",
       "      <td>886039</td>\n",
       "      <td>2017-01-09</td>\n",
       "      <td>9</td>\n",
       "      <td>2017</td>\n",
       "    </tr>\n",
       "  </tbody>\n",
       "</table>\n",
       "</div>"
      ],
      "text/plain": [
       "    Open   High      Low  Close   Volume       Date  Day  Year\n",
       "0  857.0  876.0  849.500  872.0  1196591 2017-01-03    3  2017\n",
       "1  883.0  897.0  862.500  889.5  1069831 2017-01-04    4  2017\n",
       "2  901.5  916.5  882.452  908.5  1142966 2017-01-05    5  2017\n",
       "3  905.0  905.0  885.000  888.0   709267 2017-01-06    6  2017\n",
       "4  884.5  917.5  881.580  917.5   886039 2017-01-09    9  2017"
      ]
     },
     "execution_count": 256,
     "metadata": {},
     "output_type": "execute_result"
    }
   ],
   "source": [
    "POLY19 = importStockData('POLY.L')\n",
    "POLY19.head()"
   ]
  },
  {
   "cell_type": "code",
   "execution_count": 277,
   "metadata": {},
   "outputs": [
    {
     "name": "stdout",
     "output_type": "stream",
     "text": [
      "SMDS.L\n",
      "SMIN.L\n",
      "SKG.L\n",
      "SPX.L\n",
      "SSE.L\n",
      "STAN.L\n",
      "SLA.L\n",
      "STJ.L\n",
      "TW.L\n",
      "TSCO.L\n",
      "TUI.L\n",
      "ULVR.L\n",
      "UU.L\n",
      "VOD.L\n",
      "WTB.L\n",
      "WPP.L\n"
     ]
    }
   ],
   "source": []
  },
  {
   "cell_type": "code",
   "execution_count": null,
   "metadata": {},
   "outputs": [],
   "source": [
    "#For pulling paladium data\n",
    "\n",
    "plPrice = ql.get(\"JOHNMATT/PALL\", start_date=\"2019-01-01\", end_date=\"2019-12-31\")\n",
    "#To make palladium csv \n",
    "#plPrice.to_csv('plPrice17-19.csv')\n",
    "plPrice"
   ]
  },
  {
   "cell_type": "code",
   "execution_count": 223,
   "metadata": {},
   "outputs": [
    {
     "data": {
      "text/plain": [
       "numpy.datetime64"
      ]
     },
     "execution_count": 223,
     "metadata": {},
     "output_type": "execute_result"
    }
   ],
   "source": []
  },
  {
   "cell_type": "code",
   "execution_count": 224,
   "metadata": {
    "collapsed": true
   },
   "outputs": [
    {
     "name": "stdout",
     "output_type": "stream",
     "text": [
      "<class 'pandas._libs.tslibs.timestamps.Timestamp'>\n",
      "             Open   High    Low  Close   Volume       Date  Year  Day\n",
      "2019-01-02  828.0  843.8  809.6  843.6  1011305 2019-01-02  2019    2\n",
      "2019-01-03  840.0  864.2  831.2  863.8  2456502 2019-01-03  2019    3\n",
      "2019-01-04  868.0  877.2  854.8  856.8  2089074 2019-01-04  2019    4\n",
      "2019-01-07  867.2  869.6  858.0  866.4   984279 2019-01-07  2019    7\n",
      "2019-01-08  870.0  870.0  853.8  853.8  1163531 2019-01-08  2019    8\n"
     ]
    },
    {
     "ename": "AttributeError",
     "evalue": "'AxesSubplot' object has no attribute 'figsize'",
     "output_type": "error",
     "traceback": [
      "\u001b[0;31m---------------------------------------------------------------------------\u001b[0m",
      "\u001b[0;31mAttributeError\u001b[0m                            Traceback (most recent call last)",
      "\u001b[0;32m<ipython-input-224-840459670c4e>\u001b[0m in \u001b[0;36m<module>\u001b[0;34m\u001b[0m\n\u001b[1;32m     15\u001b[0m \u001b[0;31m#print(plPrice.head())\u001b[0m\u001b[0;34m\u001b[0m\u001b[0;34m\u001b[0m\u001b[0;34m\u001b[0m\u001b[0m\n\u001b[1;32m     16\u001b[0m \u001b[0maxs\u001b[0m\u001b[0;34m.\u001b[0m\u001b[0mplot\u001b[0m\u001b[0;34m(\u001b[0m\u001b[0mplPrice\u001b[0m\u001b[0;34m[\u001b[0m\u001b[0;34m'Day'\u001b[0m\u001b[0;34m]\u001b[0m\u001b[0;34m,\u001b[0m\u001b[0mplPrice\u001b[0m\u001b[0;34m[\u001b[0m\u001b[0;34m'London 09:00'\u001b[0m\u001b[0;34m]\u001b[0m\u001b[0;34m)\u001b[0m\u001b[0;34m\u001b[0m\u001b[0;34m\u001b[0m\u001b[0m\n\u001b[0;32m---> 17\u001b[0;31m \u001b[0maxs\u001b[0m\u001b[0;34m.\u001b[0m\u001b[0mfigsize\u001b[0m\u001b[0;34m(\u001b[0m\u001b[0;36m10\u001b[0m\u001b[0;34m,\u001b[0m\u001b[0;36m15\u001b[0m\u001b[0;34m)\u001b[0m\u001b[0;34m\u001b[0m\u001b[0;34m\u001b[0m\u001b[0m\n\u001b[0m\u001b[1;32m     18\u001b[0m \u001b[0;31m#plt.show()\u001b[0m\u001b[0;34m\u001b[0m\u001b[0;34m\u001b[0m\u001b[0;34m\u001b[0m\u001b[0m\n\u001b[1;32m     19\u001b[0m \u001b[0mplPrice\u001b[0m\u001b[0;34m.\u001b[0m\u001b[0mhead\u001b[0m\u001b[0;34m(\u001b[0m\u001b[0;34m)\u001b[0m\u001b[0;34m\u001b[0m\u001b[0;34m\u001b[0m\u001b[0m\n",
      "\u001b[0;31mAttributeError\u001b[0m: 'AxesSubplot' object has no attribute 'figsize'"
     ]
    },
    {
     "data": {
      "image/png": "[encoded data removed]",
      "text/plain": [
       "<Figure size 1080x720 with 1 Axes>"
      ]
     },
     "metadata": {
      "needs_background": "light"
     },
     "output_type": "display_data"
    }
   ],
   "source": []
  },
  {
   "cell_type": "code",
   "execution_count": 246,
   "metadata": {},
   "outputs": [
    {
     "data": {
      "text/html": [
       "<div>\n",
       "<style scoped>\n",
       "    .dataframe tbody tr th:only-of-type {\n",
       "        vertical-align: middle;\n",
       "    }\n",
       "\n",
       "    .dataframe tbody tr th {\n",
       "        vertical-align: top;\n",
       "    }\n",
       "\n",
       "    .dataframe thead th {\n",
       "        text-align: right;\n",
       "    }\n",
       "</style>\n",
       "<table border=\"1\" class=\"dataframe\">\n",
       "  <thead>\n",
       "    <tr style=\"text-align: right;\">\n",
       "      <th></th>\n",
       "      <th>Date</th>\n",
       "      <th>Open</th>\n",
       "      <th>High</th>\n",
       "      <th>Low</th>\n",
       "      <th>Close</th>\n",
       "      <th>Volume</th>\n",
       "      <th>Day</th>\n",
       "      <th>Year</th>\n",
       "    </tr>\n",
       "  </thead>\n",
       "  <tbody>\n",
       "    <tr>\n",
       "      <th>304</th>\n",
       "      <td>2019-01-02</td>\n",
       "      <td>828.0</td>\n",
       "      <td>843.8</td>\n",
       "      <td>809.6</td>\n",
       "      <td>843.6</td>\n",
       "      <td>1011305</td>\n",
       "      <td>2</td>\n",
       "      <td>2019</td>\n",
       "    </tr>\n",
       "    <tr>\n",
       "      <th>303</th>\n",
       "      <td>2019-01-03</td>\n",
       "      <td>840.0</td>\n",
       "      <td>864.2</td>\n",
       "      <td>831.2</td>\n",
       "      <td>863.8</td>\n",
       "      <td>2456502</td>\n",
       "      <td>3</td>\n",
       "      <td>2019</td>\n",
       "    </tr>\n",
       "    <tr>\n",
       "      <th>302</th>\n",
       "      <td>2019-01-04</td>\n",
       "      <td>868.0</td>\n",
       "      <td>877.2</td>\n",
       "      <td>854.8</td>\n",
       "      <td>856.8</td>\n",
       "      <td>2089074</td>\n",
       "      <td>4</td>\n",
       "      <td>2019</td>\n",
       "    </tr>\n",
       "    <tr>\n",
       "      <th>301</th>\n",
       "      <td>2019-01-07</td>\n",
       "      <td>867.2</td>\n",
       "      <td>869.6</td>\n",
       "      <td>858.0</td>\n",
       "      <td>866.4</td>\n",
       "      <td>984279</td>\n",
       "      <td>7</td>\n",
       "      <td>2019</td>\n",
       "    </tr>\n",
       "    <tr>\n",
       "      <th>300</th>\n",
       "      <td>2019-01-08</td>\n",
       "      <td>870.0</td>\n",
       "      <td>870.0</td>\n",
       "      <td>853.8</td>\n",
       "      <td>853.8</td>\n",
       "      <td>1163531</td>\n",
       "      <td>8</td>\n",
       "      <td>2019</td>\n",
       "    </tr>\n",
       "  </tbody>\n",
       "</table>\n",
       "</div>"
      ],
      "text/plain": [
       "          Date   Open   High    Low  Close   Volume  Day  Year\n",
       "304 2019-01-02  828.0  843.8  809.6  843.6  1011305    2  2019\n",
       "303 2019-01-03  840.0  864.2  831.2  863.8  2456502    3  2019\n",
       "302 2019-01-04  868.0  877.2  854.8  856.8  2089074    4  2019\n",
       "301 2019-01-07  867.2  869.6  858.0  866.4   984279    7  2019\n",
       "300 2019-01-08  870.0  870.0  853.8  853.8  1163531    8  2019"
      ]
     },
     "execution_count": 246,
     "metadata": {},
     "output_type": "execute_result"
    }
   ],
   "source": []
  },
  {
   "cell_type": "code",
   "execution_count": 222,
   "metadata": {
    "collapsed": true
   },
   "outputs": [
    {
     "name": "stdout",
     "output_type": "stream",
     "text": [
      "                      Open   High    Low  Close   Volume       Date  Year  Day\n",
      "2019-01-02 00:00:00  828.0  843.8  809.6  843.6  1011305 2019-01-02  2019    2\n",
      "2019-01-03           840.0  864.2  831.2  863.8  2456502 2019-01-03  2019    3\n",
      "2019-01-04           868.0  877.2  854.8  856.8  2089074 2019-01-04  2019    4\n",
      "2019-01-07           867.2  869.6  858.0  866.4   984279 2019-01-07  2019    7\n",
      "2019-01-08           870.0  870.0  853.8  853.8  1163531 2019-01-08  2019    8\n",
      "2019-01-09           854.8  868.0  854.8  865.0   916835 2019-01-09  2019    9\n",
      "2019-01-10           854.4  865.4  854.2  858.8  1048355 2019-01-10  2019   10\n",
      "2019-01-11           863.0  864.4  854.0  856.2   869611 2019-01-11  2019   11\n",
      "2019-01-14           855.0  856.6  847.2  855.0   786161 2019-01-14  2019   14\n",
      "2019-01-15           855.2  859.2  848.2  853.8   819490 2019-01-15  2019   15\n",
      "2019-01-16           854.2  855.6  846.4  850.0   742738 2019-01-16  2019   16\n",
      "2019-01-17           847.6  850.0  840.2  845.6   916491 2019-01-17  2019   17\n",
      "2019-01-18           848.2  854.6  842.0  848.2  1112274 2019-01-18  2019   18\n",
      "2019-01-21           853.0  853.0  839.0  844.0   494114 2019-01-21  2019   21\n",
      "2019-01-22           845.0  850.6  837.4  849.2   911969 2019-01-22  2019   22\n",
      "2019-01-23           853.0  853.0  843.0  846.6   839121 2019-01-23  2019   23\n",
      "2019-01-24           841.4  848.8  838.8  840.0  1188574 2019-01-24  2019   24\n",
      "2019-01-25           842.0  848.4  840.0  840.0  1371394 2019-01-25  2019   25\n",
      "2019-01-28           836.6  850.0  836.6  845.2  1603816 2019-01-28  2019   28\n",
      "2019-01-29           845.0  858.4  842.4  848.0  2161865 2019-01-29  2019   29\n",
      "<class 'pandas._libs.tslibs.timestamps.Timestamp'>\n"
     ]
    },
    {
     "ename": "AttributeError",
     "evalue": "can't set attribute",
     "output_type": "error",
     "traceback": [
      "\u001b[0;31m---------------------------------------------------------------------------\u001b[0m",
      "\u001b[0;31mAttributeError\u001b[0m                            Traceback (most recent call last)",
      "\u001b[0;32m<ipython-input-222-f11464fbddda>\u001b[0m in \u001b[0;36m<module>\u001b[0;34m\u001b[0m\n\u001b[1;32m      3\u001b[0m \u001b[0mprint\u001b[0m\u001b[0;34m(\u001b[0m\u001b[0mtype\u001b[0m\u001b[0;34m(\u001b[0m\u001b[0mapple19\u001b[0m\u001b[0;34m[\u001b[0m\u001b[0;34m'Date'\u001b[0m\u001b[0;34m]\u001b[0m\u001b[0;34m[\u001b[0m\u001b[0;36m0\u001b[0m\u001b[0;34m]\u001b[0m\u001b[0;34m)\u001b[0m\u001b[0;34m)\u001b[0m\u001b[0;34m\u001b[0m\u001b[0;34m\u001b[0m\u001b[0m\n\u001b[1;32m      4\u001b[0m \u001b[0;31m#print(type(apple19.index.values[), apple19.index.values[0])\u001b[0m\u001b[0;34m\u001b[0m\u001b[0;34m\u001b[0m\u001b[0;34m\u001b[0m\u001b[0m\n\u001b[0;32m----> 5\u001b[0;31m \u001b[0mapple19\u001b[0m\u001b[0;34m.\u001b[0m\u001b[0mindex\u001b[0m\u001b[0;34m.\u001b[0m\u001b[0mvalues\u001b[0m \u001b[0;34m=\u001b[0m \u001b[0mpd\u001b[0m\u001b[0;34m.\u001b[0m\u001b[0mto_datetime\u001b[0m\u001b[0;34m(\u001b[0m\u001b[0mapple19\u001b[0m\u001b[0;34m.\u001b[0m\u001b[0mindex\u001b[0m\u001b[0;34m.\u001b[0m\u001b[0mvalues\u001b[0m\u001b[0;34m)\u001b[0m\u001b[0;34m\u001b[0m\u001b[0;34m\u001b[0m\u001b[0m\n\u001b[0m\u001b[1;32m      6\u001b[0m \u001b[0mprint\u001b[0m\u001b[0;34m(\u001b[0m\u001b[0mtype\u001b[0m\u001b[0;34m(\u001b[0m\u001b[0mapple19\u001b[0m\u001b[0;34m.\u001b[0m\u001b[0mindex\u001b[0m\u001b[0;34m.\u001b[0m\u001b[0mvalues\u001b[0m\u001b[0;34m[\u001b[0m\u001b[0;36m0\u001b[0m\u001b[0;34m]\u001b[0m\u001b[0;34m)\u001b[0m\u001b[0;34m,\u001b[0m \u001b[0mapple19\u001b[0m\u001b[0;34m.\u001b[0m\u001b[0mindex\u001b[0m\u001b[0;34m.\u001b[0m\u001b[0mvalues\u001b[0m\u001b[0;34m[\u001b[0m\u001b[0;36m0\u001b[0m\u001b[0;34m]\u001b[0m\u001b[0;34m)\u001b[0m\u001b[0;34m\u001b[0m\u001b[0;34m\u001b[0m\u001b[0m\n\u001b[1;32m      7\u001b[0m \u001b[0mpd\u001b[0m\u001b[0;34m.\u001b[0m\u001b[0mDatetimeIndex\u001b[0m\u001b[0;34m(\u001b[0m\u001b[0mapple19\u001b[0m\u001b[0;34m.\u001b[0m\u001b[0mindex\u001b[0m\u001b[0;34m.\u001b[0m\u001b[0mvalues\u001b[0m\u001b[0;34m)\u001b[0m\u001b[0;34m.\u001b[0m\u001b[0mdt\u001b[0m\u001b[0;34m.\u001b[0m\u001b[0mdayofyear\u001b[0m\u001b[0;34m\u001b[0m\u001b[0;34m\u001b[0m\u001b[0m\n",
      "\u001b[0;31mAttributeError\u001b[0m: can't set attribute"
     ]
    }
   ],
   "source": [
    "\n"
   ]
  },
  {
   "cell_type": "code",
   "execution_count": null,
   "metadata": {},
   "outputs": [],
   "source": [
    "plt.figure(num=None, figsize=(15, 6), dpi=80, facecolor='w', edgecolor='k')\n",
    "aapl['4. close'].plot()\n",
    "plt.tight_layout()\n",
    "plt.grid()\n",
    "plt.show()"
   ]
  },
  {
   "cell_type": "code",
   "execution_count": 210,
   "metadata": {},
   "outputs": [],
   "source": [
    "\n"
   ]
  },
  {
   "cell_type": "code",
   "execution_count": 225,
   "metadata": {},
   "outputs": [
    {
     "data": {
      "text/html": [
       "<div>\n",
       "<style scoped>\n",
       "    .dataframe tbody tr th:only-of-type {\n",
       "        vertical-align: middle;\n",
       "    }\n",
       "\n",
       "    .dataframe tbody tr th {\n",
       "        vertical-align: top;\n",
       "    }\n",
       "\n",
       "    .dataframe thead th {\n",
       "        text-align: right;\n",
       "    }\n",
       "</style>\n",
       "<table border=\"1\" class=\"dataframe\">\n",
       "  <thead>\n",
       "    <tr style=\"text-align: right;\">\n",
       "      <th></th>\n",
       "      <th>Hong Kong 8:30</th>\n",
       "      <th>Hong Kong 14:00</th>\n",
       "      <th>London 09:00</th>\n",
       "      <th>New York 9:30</th>\n",
       "      <th>Date</th>\n",
       "      <th>Day</th>\n",
       "    </tr>\n",
       "    <tr>\n",
       "      <th>Date</th>\n",
       "      <th></th>\n",
       "      <th></th>\n",
       "      <th></th>\n",
       "      <th></th>\n",
       "      <th></th>\n",
       "      <th></th>\n",
       "    </tr>\n",
       "  </thead>\n",
       "  <tbody>\n",
       "    <tr>\n",
       "      <th>2019-01-02</th>\n",
       "      <td>1277.0</td>\n",
       "      <td>1272.0</td>\n",
       "      <td>1267.0</td>\n",
       "      <td>1262.0</td>\n",
       "      <td>2019-01-02</td>\n",
       "      <td>2</td>\n",
       "    </tr>\n",
       "    <tr>\n",
       "      <th>2019-01-03</th>\n",
       "      <td>1273.0</td>\n",
       "      <td>1273.0</td>\n",
       "      <td>1268.0</td>\n",
       "      <td>1262.0</td>\n",
       "      <td>2019-01-03</td>\n",
       "      <td>3</td>\n",
       "    </tr>\n",
       "    <tr>\n",
       "      <th>2019-01-04</th>\n",
       "      <td>1275.0</td>\n",
       "      <td>1274.0</td>\n",
       "      <td>1275.0</td>\n",
       "      <td>1270.0</td>\n",
       "      <td>2019-01-04</td>\n",
       "      <td>4</td>\n",
       "    </tr>\n",
       "    <tr>\n",
       "      <th>2019-01-07</th>\n",
       "      <td>1315.0</td>\n",
       "      <td>1319.0</td>\n",
       "      <td>1314.0</td>\n",
       "      <td>1302.0</td>\n",
       "      <td>2019-01-07</td>\n",
       "      <td>7</td>\n",
       "    </tr>\n",
       "    <tr>\n",
       "      <th>2019-01-08</th>\n",
       "      <td>1315.0</td>\n",
       "      <td>1314.0</td>\n",
       "      <td>1315.0</td>\n",
       "      <td>1307.0</td>\n",
       "      <td>2019-01-08</td>\n",
       "      <td>8</td>\n",
       "    </tr>\n",
       "    <tr>\n",
       "      <th>...</th>\n",
       "      <td>...</td>\n",
       "      <td>...</td>\n",
       "      <td>...</td>\n",
       "      <td>...</td>\n",
       "      <td>...</td>\n",
       "      <td>...</td>\n",
       "    </tr>\n",
       "    <tr>\n",
       "      <th>2019-12-24</th>\n",
       "      <td>1880.0</td>\n",
       "      <td>1889.0</td>\n",
       "      <td>1885.0</td>\n",
       "      <td>1876.0</td>\n",
       "      <td>2019-12-24</td>\n",
       "      <td>358</td>\n",
       "    </tr>\n",
       "    <tr>\n",
       "      <th>2019-12-26</th>\n",
       "      <td>NaN</td>\n",
       "      <td>NaN</td>\n",
       "      <td>NaN</td>\n",
       "      <td>1898.0</td>\n",
       "      <td>2019-12-26</td>\n",
       "      <td>360</td>\n",
       "    </tr>\n",
       "    <tr>\n",
       "      <th>2019-12-27</th>\n",
       "      <td>1916.0</td>\n",
       "      <td>1916.0</td>\n",
       "      <td>1917.0</td>\n",
       "      <td>1905.0</td>\n",
       "      <td>2019-12-27</td>\n",
       "      <td>361</td>\n",
       "    </tr>\n",
       "    <tr>\n",
       "      <th>2019-12-30</th>\n",
       "      <td>1920.0</td>\n",
       "      <td>1915.0</td>\n",
       "      <td>1915.0</td>\n",
       "      <td>1909.0</td>\n",
       "      <td>2019-12-30</td>\n",
       "      <td>364</td>\n",
       "    </tr>\n",
       "    <tr>\n",
       "      <th>2019-12-31</th>\n",
       "      <td>1920.0</td>\n",
       "      <td>1920.0</td>\n",
       "      <td>1926.0</td>\n",
       "      <td>1930.0</td>\n",
       "      <td>2019-12-31</td>\n",
       "      <td>365</td>\n",
       "    </tr>\n",
       "  </tbody>\n",
       "</table>\n",
       "<p>258 rows × 6 columns</p>\n",
       "</div>"
      ],
      "text/plain": [
       "            Hong Kong 8:30  Hong Kong 14:00  London 09:00  New York 9:30  \\\n",
       "Date                                                                       \n",
       "2019-01-02          1277.0           1272.0        1267.0         1262.0   \n",
       "2019-01-03          1273.0           1273.0        1268.0         1262.0   \n",
       "2019-01-04          1275.0           1274.0        1275.0         1270.0   \n",
       "2019-01-07          1315.0           1319.0        1314.0         1302.0   \n",
       "2019-01-08          1315.0           1314.0        1315.0         1307.0   \n",
       "...                    ...              ...           ...            ...   \n",
       "2019-12-24          1880.0           1889.0        1885.0         1876.0   \n",
       "2019-12-26             NaN              NaN           NaN         1898.0   \n",
       "2019-12-27          1916.0           1916.0        1917.0         1905.0   \n",
       "2019-12-30          1920.0           1915.0        1915.0         1909.0   \n",
       "2019-12-31          1920.0           1920.0        1926.0         1930.0   \n",
       "\n",
       "                 Date  Day  \n",
       "Date                        \n",
       "2019-01-02 2019-01-02    2  \n",
       "2019-01-03 2019-01-03    3  \n",
       "2019-01-04 2019-01-04    4  \n",
       "2019-01-07 2019-01-07    7  \n",
       "2019-01-08 2019-01-08    8  \n",
       "...               ...  ...  \n",
       "2019-12-24 2019-12-24  358  \n",
       "2019-12-26 2019-12-26  360  \n",
       "2019-12-27 2019-12-27  361  \n",
       "2019-12-30 2019-12-30  364  \n",
       "2019-12-31 2019-12-31  365  \n",
       "\n",
       "[258 rows x 6 columns]"
      ]
     },
     "execution_count": 225,
     "metadata": {},
     "output_type": "execute_result"
    }
   ],
   "source": [
    "\n"
   ]
  },
  {
   "cell_type": "code",
   "execution_count": 288,
   "metadata": {},
   "outputs": [
    {
     "data": {
      "text/plain": [
       "['EZJ', 'MKS', 'MCRO', 'WG', 'DLG', 'GVC']"
      ]
     },
     "execution_count": 288,
     "metadata": {},
     "output_type": "execute_result"
    }
   ],
   "source": [
    "FTSEQ4 = ['III','ABF','ADM','AAL','ANTO','AHT','AZN','AUTO','AVV','AV','BA','BARC','BDEV','BKG','BHP','BP','BATS','BLND','BT-A','BNZL','BRBY','CCL','CNA','CCH','CPG','CRH','CRDA','DCC','DGE','EVR','EXPN','FERG','FLTR','FRES','GSK','GLEN','HLMA','HL','HSBA','HIK','HSX','IMB','INF','IHG','IAG','ITRK','ITV','JD','JMAT','KGF','LAND','LGEN','LLOY','LSE','MNG','MGGT','MRO','MNDI','MRW','NG','NXT','NMC','OCDO','PSON','PSN','PHNX','POLY','PRU','RB','REL','RTO','RIO','RMV','RR','RBS','RDSA','RDSB','RSA','SGE','SBRY','SDR','SMT','SGRO','SVT','SN','SMDS','SMIN','SKG','SPX','SSE','STAN','SLA','STJ','TW','TSCO','TUI','ULVR','UU','VOD','WTB','WPP']\n",
    "FTSEQ3 = ['III','ABF','ADM','AAL','ANTO','AHT','AZN','AUTO','AVV','AV','BA','BARC','BDEV','BKG','BHP','BP','BATS','BLND','BT-A','BNZL','BRBY','CCL','CNA','CCH','CPG','CRH','CRDA','DCC','DGE','DLG','EVR','EXPN','FERG','FLTR','FRES','GSK','GLEN','HLMA','HL','HSBA','HSX','IMB','INF','IHG','IAG','ITRK','ITV','JD','JMAT','KGF','LAND','LGEN','LLOY','LSE','MCRO','MKS','MNG','MRO','MNDI','MRW','NG','NXT','NMC','OCDO','PSON','PSN','PHNX','PRU','RB','REL','RTO','RIO','RMV','RR','RBS','RDSA','RDSB','RSA','SGE','SBRY','SDR','SMT','SGRO','SVT','SN','SMDS','SMIN','SKG','SPX','SSE','STAN','SLA','STJ','TW','TSCO','TUI','ULVR','UU','VOD','WTB','WPP']\n",
    "FTSEQ2 = ['III','ABF','ADM','AAL','ANTO','AHT','AZN','AUTO','AV','BA','BARC','BDEV','BKG','BHP','BP','BATS','BLND','BT-A','BNZL','BRBY','CCL','CNA','CCH','CPG','CRH','CRDA','DCC','DGE','DLG','EVR','EZJ','EXPN','FERG','FLTR','FRES','GSK','GLEN','HIK','HLMA','HL','HSBA','HSX','IMB','INF','IHG','IAG','ITRK','ITV','JMAT','KGF','LAND','LGEN','LLOY','LSE','MCRO','MKS','MNG','MRO','MNDI','MRW','NG','NXT','NMC','OCDO','PSON','PSN','PHNX','PRU','RB','REL','RTO','RIO','RMV','RR','RBS','RDSA','RDSB','RSA','SGE','SBRY','SDR','SMT','SGRO','SVT','SN','SMDS','SMIN','SKG','SPX','SSE','STAN','SLA','STJ','TW','TSCO','TUI','ULVR','UU','VOD','WTB','WPP']\n",
    "FTSEQ1 = ['III','ABF','ADM','AAL','ANTO','AHT','AZN','AUTO','AV','BA','BARC','BDEV','BKG','BHP','BP','BATS','BLND','BT-A','BNZL','BRBY','CCL','CNA','CCH','CPG','CRH','CRDA','DCC','DGE','DLG','EVR','EZJ','EXPN','FERG','FLTR','FRES','GSK','GLEN','GVC','HLMA','HL','HSBA','HSX','IMB','INF','IHG','IAG','ITRK','ITV','JMAT','KGF','LAND','LGEN','LLOY','LSE','MCRO','MKS','MNG','MRO','MNDI','MRW','NG','NXT','NMC','OCDO','PSON','PSN','PRU','RB','REL','RTO','RIO','RMV','RR','RBS','RDSA','RDSB','RSA','SGE','SBRY','SDR','SMT','SGRO','SVT','SN','SMDS','SMIN','SKG','SPX','SSE','STAN','SLA','STJ','TW','TSCO','TUI','ULVR','UU','VOD','WG','WTB','WPP']\n",
    "\n",
    "allStocks19 = list(np.unique(np.asarray(FTSEQ1+FTSEQ2+FTSEQ3+FTSEQ4)))\n",
    "newStocks19 = list(set(allStocks19).difference(FTSEQ4))\n",
    "newStocks19\n"
   ]
  },
  {
   "cell_type": "code",
   "execution_count": 290,
   "metadata": {},
   "outputs": [
    {
     "data": {
      "text/plain": [
       "['EZJ.L', 'MKS.L', 'MCRO.L', 'WG.L', 'DLG.L', 'GVC.L']"
      ]
     },
     "execution_count": 290,
     "metadata": {},
     "output_type": "execute_result"
    }
   ],
   "source": [
    "newDifference = ['{}.L'.format(a) for a in newStocks19]\n",
    "newDifference"
   ]
  },
  {
   "cell_type": "code",
   "execution_count": 292,
   "metadata": {},
   "outputs": [
    {
     "name": "stdout",
     "output_type": "stream",
     "text": [
      "EZJ.L\n",
      "MKS.L\n",
      "MCRO.L\n",
      "WG.L\n",
      "DLG.L\n",
      "GVC.L\n"
     ]
    }
   ],
   "source": [
    "for idx,stock in enumerate(newDifference):\n",
    "    \n",
    "    if idx > -1:\n",
    "        print(stock)\n",
    "        stockdf = importStockData(stock)\n",
    "        stockdf.to_csv('{0}17-20.csv'.format(stock))\n",
    "        sleep(12)"
   ]
  },
  {
   "cell_type": "code",
   "execution_count": 51,
   "metadata": {},
   "outputs": [
    {
     "data": {
      "text/plain": [
       "0.L     III\n",
       "1.L     ABF\n",
       "2.L     ADM\n",
       "3.L     AAL\n",
       "4.L    ANTO\n",
       "dtype: object"
      ]
     },
     "execution_count": 51,
     "metadata": {},
     "output_type": "execute_result"
    }
   ],
   "source": [
    "newFTSEQ4 = pd.Series(FTSEQ4)\n",
    "newFTSEQ4.add_suffix('.L').head()"
   ]
  },
  {
   "cell_type": "code",
   "execution_count": 213,
   "metadata": {},
   "outputs": [
    {
     "name": "stdout",
     "output_type": "stream",
     "text": [
      "<class 'numpy.datetime64'>\n",
      "<class 'pandas._libs.tslibs.timestamps.Timestamp'>\n"
     ]
    },
    {
     "data": {
      "text/html": [
       "<div>\n",
       "<style scoped>\n",
       "    .dataframe tbody tr th:only-of-type {\n",
       "        vertical-align: middle;\n",
       "    }\n",
       "\n",
       "    .dataframe tbody tr th {\n",
       "        vertical-align: top;\n",
       "    }\n",
       "\n",
       "    .dataframe thead th {\n",
       "        text-align: right;\n",
       "    }\n",
       "</style>\n",
       "<table border=\"1\" class=\"dataframe\">\n",
       "  <thead>\n",
       "    <tr style=\"text-align: right;\">\n",
       "      <th></th>\n",
       "      <th>Hong Kong 8:30</th>\n",
       "      <th>Hong Kong 14:00</th>\n",
       "      <th>London 09:00</th>\n",
       "      <th>New York 9:30</th>\n",
       "      <th>Date</th>\n",
       "      <th>Day</th>\n",
       "    </tr>\n",
       "    <tr>\n",
       "      <th>Date</th>\n",
       "      <th></th>\n",
       "      <th></th>\n",
       "      <th></th>\n",
       "      <th></th>\n",
       "      <th></th>\n",
       "      <th></th>\n",
       "    </tr>\n",
       "  </thead>\n",
       "  <tbody>\n",
       "    <tr>\n",
       "      <th>2019-01-02</th>\n",
       "      <td>1277.0</td>\n",
       "      <td>1272.0</td>\n",
       "      <td>1267.0</td>\n",
       "      <td>1262.0</td>\n",
       "      <td>2019-01-02</td>\n",
       "      <td>2</td>\n",
       "    </tr>\n",
       "    <tr>\n",
       "      <th>2019-01-03</th>\n",
       "      <td>1273.0</td>\n",
       "      <td>1273.0</td>\n",
       "      <td>1268.0</td>\n",
       "      <td>1262.0</td>\n",
       "      <td>2019-01-03</td>\n",
       "      <td>3</td>\n",
       "    </tr>\n",
       "    <tr>\n",
       "      <th>2019-01-04</th>\n",
       "      <td>1275.0</td>\n",
       "      <td>1274.0</td>\n",
       "      <td>1275.0</td>\n",
       "      <td>1270.0</td>\n",
       "      <td>2019-01-04</td>\n",
       "      <td>4</td>\n",
       "    </tr>\n",
       "    <tr>\n",
       "      <th>2019-01-07</th>\n",
       "      <td>1315.0</td>\n",
       "      <td>1319.0</td>\n",
       "      <td>1314.0</td>\n",
       "      <td>1302.0</td>\n",
       "      <td>2019-01-07</td>\n",
       "      <td>7</td>\n",
       "    </tr>\n",
       "    <tr>\n",
       "      <th>2019-01-08</th>\n",
       "      <td>1315.0</td>\n",
       "      <td>1314.0</td>\n",
       "      <td>1315.0</td>\n",
       "      <td>1307.0</td>\n",
       "      <td>2019-01-08</td>\n",
       "      <td>8</td>\n",
       "    </tr>\n",
       "  </tbody>\n",
       "</table>\n",
       "</div>"
      ],
      "text/plain": [
       "            Hong Kong 8:30  Hong Kong 14:00  London 09:00  New York 9:30  \\\n",
       "Date                                                                       \n",
       "2019-01-02          1277.0           1272.0        1267.0         1262.0   \n",
       "2019-01-03          1273.0           1273.0        1268.0         1262.0   \n",
       "2019-01-04          1275.0           1274.0        1275.0         1270.0   \n",
       "2019-01-07          1315.0           1319.0        1314.0         1302.0   \n",
       "2019-01-08          1315.0           1314.0        1315.0         1307.0   \n",
       "\n",
       "                 Date  Day  \n",
       "Date                        \n",
       "2019-01-02 2019-01-02    2  \n",
       "2019-01-03 2019-01-03    3  \n",
       "2019-01-04 2019-01-04    4  \n",
       "2019-01-07 2019-01-07    7  \n",
       "2019-01-08 2019-01-08    8  "
      ]
     },
     "execution_count": 213,
     "metadata": {},
     "output_type": "execute_result"
    }
   ],
   "source": [
    "#dict(zip(pd.to_datetime(plPrice.index.values), plPrice.index.values))\n",
    "print(type(plPrice.index.values[0]))\n",
    "print(type(pd.to_datetime(plPrice.index.values[0].astype('M8[D]'))))\n",
    "plPrice['Date'] = pd.to_datetime(plPrice.index.values.astype('M8[D]'))\n",
    "plPrice['Day'] = plPrice['Date'].dt.dayofyear\n",
    "plPrice.head()"
   ]
  },
  {
   "cell_type": "code",
   "execution_count": 241,
   "metadata": {},
   "outputs": [
    {
     "name": "stdout",
     "output_type": "stream",
     "text": [
      "              Open    High     Low   Close   Volume       Date  Day  Year\n",
      "date                                                                     \n",
      "2019-01-02   828.0   843.8   809.6   843.6  1011305 2019-01-02    2  2019\n",
      "2019-01-03   840.0   864.2   831.2   863.8  2456502 2019-01-03    3  2019\n",
      "2019-01-04   868.0   877.2   854.8   856.8  2089074 2019-01-04    4  2019\n",
      "2019-01-07   867.2   869.6   858.0   866.4   984279 2019-01-07    7  2019\n",
      "2019-01-08   870.0   870.0   853.8   853.8  1163531 2019-01-08    8  2019\n",
      "...            ...     ...     ...     ...      ...        ...  ...   ...\n",
      "2019-12-23  1159.5  1174.0  1157.0  1174.0  1069145 2019-12-23  357  2019\n",
      "2019-12-24  1174.0  1185.0  1165.0  1170.0   214122 2019-12-24  358  2019\n",
      "2019-12-27  1180.0  1196.5  1180.0  1189.5  1499641 2019-12-27  361  2019\n",
      "2019-12-30  1194.5  1199.5  1181.0  1193.0   726521 2019-12-30  364  2019\n",
      "2019-12-31  1175.0  1205.0  1175.0  1195.0   287677 2019-12-31  365  2019\n",
      "\n",
      "[253 rows x 8 columns]\n"
     ]
    },
    {
     "data": {
      "image/png": "[encoded data removed]",
      "text/plain": [
       "<Figure size 1080x720 with 1 Axes>"
      ]
     },
     "metadata": {
      "needs_background": "light"
     },
     "output_type": "display_data"
    }
   ],
   "source": [
    "POLY19 = importStockData('POLY.L')\n",
    "print(POLY19)\n",
    "f = plt.figure(figsize=(15,10))\n",
    "axs = f.add_subplot(111)\n",
    "axs.plot(POLY19['Day'], POLY19['Open'])\n",
    "axs.plot(plPrice['Day'],plPrice['London 09:00'])\n",
    "plt.show()"
   ]
  },
  {
   "cell_type": "code",
   "execution_count": null,
   "metadata": {},
   "outputs": [],
   "source": []
  }
 ],
 "metadata": {
  "kernelspec": {
   "display_name": "Python 3",
   "language": "python",
   "name": "python3"
  },
  "language_info": {
   "codemirror_mode": {
    "name": "ipython",
    "version": 3
   },
   "file_extension": ".py",
   "mimetype": "text/x-python",
   "name": "python",
   "nbconvert_exporter": "python",
   "pygments_lexer": "ipython3",
   "version": "3.7.6"
  }
 },
 "nbformat": 4,
 "nbformat_minor": 2
}
